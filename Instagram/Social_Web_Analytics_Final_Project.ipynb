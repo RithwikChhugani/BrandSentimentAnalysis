{
  "nbformat": 4,
  "nbformat_minor": 0,
  "metadata": {
    "colab": {
      "name": "Social Web Analytics Final Project.ipynb",
      "provenance": [],
      "collapsed_sections": []
    },
    "kernelspec": {
      "name": "python3",
      "display_name": "Python 3"
    },
    "language_info": {
      "name": "python"
    }
  },
  "cells": [
    {
      "cell_type": "code",
      "metadata": {
        "colab": {
          "base_uri": "https://localhost:8080/"
        },
        "id": "iDTzIIsa8qoh",
        "outputId": "7631c25b-783d-4ab8-bffa-f07ad701ce54"
      },
      "source": [
        "!pip install instagramy\n",
        "!pip install nltk"
      ],
      "execution_count": null,
      "outputs": [
        {
          "output_type": "stream",
          "text": [
            "Requirement already satisfied: instagramy in /usr/local/lib/python3.7/dist-packages (4.4)\n",
            "Requirement already satisfied: nltk in /usr/local/lib/python3.7/dist-packages (3.2.5)\n",
            "Requirement already satisfied: six in /usr/local/lib/python3.7/dist-packages (from nltk) (1.15.0)\n"
          ],
          "name": "stdout"
        }
      ]
    },
    {
      "cell_type": "code",
      "metadata": {
        "id": "_4O8HQy-SxmG"
      },
      "source": [
        "import pandas as pd\n",
        "import numpy as np\n",
        "import matplotlib.pyplot as plt\n",
        "import seaborn as sns\n",
        "from datetime import datetime\n",
        "import re, string\n",
        "import nltk\n",
        "from nltk.corpus import stopwords\n",
        "from nltk.stem import WordNetLemmatizer \n",
        "from textblob import TextBlob\n",
        "from instagramy import InstagramUser\n",
        "from instagramy import InstagramPost\n",
        "\n",
        "session_id = \"47428141866%3AHopqobbtMNZtv5%3A17\""
      ],
      "execution_count": null,
      "outputs": []
    },
    {
      "cell_type": "code",
      "metadata": {
        "id": "1onmWQj5BEfQ"
      },
      "source": [
        "def briefing(nodes, post_type, desc, caption, likes, comments_no, post_id, timestamp, brand_name, brand):\n",
        "  for node in nodes:\n",
        "    child = node['node']\n",
        "    post_type.append(child['__typename'])\n",
        "    desc.append(child['accessibility_caption'])\n",
        "    caption.append(child['edge_media_to_caption']['edges'][0]['node']['text'])\n",
        "    likes.append(child['edge_liked_by']['count'])\n",
        "    comments_no.append(child['edge_media_to_comment']['count'])\n",
        "    post_id.append(child['shortcode'])\n",
        "    timestamp.append(datetime.fromtimestamp(child['taken_at_timestamp']))\n",
        "    brand_name.append(brand)"
      ],
      "execution_count": null,
      "outputs": []
    },
    {
      "cell_type": "code",
      "metadata": {
        "colab": {
          "base_uri": "https://localhost:8080/"
        },
        "id": "1J9gx-EQG188",
        "outputId": "7670133c-af90-41d0-d440-fef07fa5e343"
      },
      "source": [
        "brands = ['cocacola', 'pepsi', 'sprite']\n",
        "post_type = []\n",
        "desc = []\n",
        "caption = []\n",
        "likes = []\n",
        "comments_no = []\n",
        "post_id = []\n",
        "timestamp = []\n",
        "brand_name = []\n",
        "# Connecting the profile\n",
        "for brand in brands:\n",
        "  user = InstagramUser(brand, sessionid=session_id)\n",
        "  print(user.is_verified)\n",
        "  user_data = user.user_data\n",
        "  bio = user_data['biography']\n",
        "  biz_cat = user_data['business_category_name']\n",
        "  following = user_data['edge_follow']['count']\n",
        "  followed_by = user_data['edge_followed_by']['count']\n",
        "  post_no = user_data['edge_owner_to_timeline_media']['count']\n",
        "  print(f\"Brand: {brand} \\n Bio: {bio} \\n Business category: {biz_cat} \\n Followed by: {followed_by} \\n Following: {following} \\n Number of posts: {post_no}\")\n",
        "  briefing(user_data['edge_owner_to_timeline_media']['edges'], post_type, desc, caption, likes, comments_no, post_id, timestamp, brand_name, brand)\n",
        "\n"
      ],
      "execution_count": null,
      "outputs": [
        {
          "output_type": "stream",
          "text": [
            "True\n",
            "Brand: cocacola \n",
            " Bio: Together, we must build a better future. \n",
            " Business category: Food & Personal Goods \n",
            " Followed by: 2787246 \n",
            " Following: 237 \n",
            " Number of posts: 232\n",
            "True\n",
            "Brand: pepsi \n",
            " Bio: Serving stunning Pepsi visuals all day, every day. So get ready to double tap. \n",
            " Business category: Food & Personal Goods \n",
            " Followed by: 1729737 \n",
            " Following: 31 \n",
            " Number of posts: 555\n",
            "True\n",
            "Brand: sprite \n",
            " Bio: 2021 plans - Create. Act. Continue the fight. \n",
            " Business category: Personal Goods & General Merchandise Stores \n",
            " Followed by: 877593 \n",
            " Following: 1000 \n",
            " Number of posts: 170\n"
          ],
          "name": "stdout"
        }
      ]
    },
    {
      "cell_type": "code",
      "metadata": {
        "colab": {
          "base_uri": "https://localhost:8080/",
          "height": 359
        },
        "id": "f1TRgO93EUld",
        "outputId": "4971b42b-aee4-4dad-da6b-59425d928902"
      },
      "source": [
        "brief = pd.DataFrame(data = {'Type':post_type, 'Description':desc, 'Caption':caption, 'Likes':likes, 'Comments':comments_no, \"ID\":post_id, 'Timestamp':timestamp, 'Brand':brand_name})\n",
        "brief.head(10)"
      ],
      "execution_count": null,
      "outputs": [
        {
          "output_type": "execute_result",
          "data": {
            "text/html": [
              "<div>\n",
              "<style scoped>\n",
              "    .dataframe tbody tr th:only-of-type {\n",
              "        vertical-align: middle;\n",
              "    }\n",
              "\n",
              "    .dataframe tbody tr th {\n",
              "        vertical-align: top;\n",
              "    }\n",
              "\n",
              "    .dataframe thead th {\n",
              "        text-align: right;\n",
              "    }\n",
              "</style>\n",
              "<table border=\"1\" class=\"dataframe\">\n",
              "  <thead>\n",
              "    <tr style=\"text-align: right;\">\n",
              "      <th></th>\n",
              "      <th>Type</th>\n",
              "      <th>Description</th>\n",
              "      <th>Caption</th>\n",
              "      <th>Likes</th>\n",
              "      <th>Comments</th>\n",
              "      <th>ID</th>\n",
              "      <th>Timestamp</th>\n",
              "      <th>Brand</th>\n",
              "    </tr>\n",
              "  </thead>\n",
              "  <tbody>\n",
              "    <tr>\n",
              "      <th>0</th>\n",
              "      <td>GraphImage</td>\n",
              "      <td>Photo by Coca-Cola on May 03, 2021. May be an ...</td>\n",
              "      <td>Two little words, so much flavor. Comment the ...</td>\n",
              "      <td>3151</td>\n",
              "      <td>217</td>\n",
              "      <td>COa8EdZnfrY</td>\n",
              "      <td>2021-05-03 18:30:17</td>\n",
              "      <td>cocacola</td>\n",
              "    </tr>\n",
              "    <tr>\n",
              "      <th>1</th>\n",
              "      <td>GraphImage</td>\n",
              "      <td>Photo by Coca-Cola on April 30, 2021. May be a...</td>\n",
              "      <td>Happiness is the best interior decorator. Tag ...</td>\n",
              "      <td>8508</td>\n",
              "      <td>250</td>\n",
              "      <td>COSyNzqMT4f</td>\n",
              "      <td>2021-04-30 14:30:16</td>\n",
              "      <td>cocacola</td>\n",
              "    </tr>\n",
              "    <tr>\n",
              "      <th>2</th>\n",
              "      <td>GraphSidecar</td>\n",
              "      <td>Photo by Coca-Cola on April 27, 2021.</td>\n",
              "      <td>Can you make it to the middle of the maze? Swi...</td>\n",
              "      <td>6011</td>\n",
              "      <td>201</td>\n",
              "      <td>COK9QS-H7aj</td>\n",
              "      <td>2021-04-27 13:32:39</td>\n",
              "      <td>cocacola</td>\n",
              "    </tr>\n",
              "    <tr>\n",
              "      <th>3</th>\n",
              "      <td>GraphImage</td>\n",
              "      <td>Photo by Coca-Cola on March 24, 2021. May be a...</td>\n",
              "      <td>We condemn the racist incidents targeting the ...</td>\n",
              "      <td>10410</td>\n",
              "      <td>3993</td>\n",
              "      <td>CMz-9qLH5rB</td>\n",
              "      <td>2021-03-24 18:53:47</td>\n",
              "      <td>cocacola</td>\n",
              "    </tr>\n",
              "    <tr>\n",
              "      <th>4</th>\n",
              "      <td>GraphImage</td>\n",
              "      <td>Photo by Coca-Cola on March 11, 2021.</td>\n",
              "      <td>Coca-Cola is a wonderfully refreshing piece of...</td>\n",
              "      <td>5881</td>\n",
              "      <td>1200</td>\n",
              "      <td>CMShYVenVOh</td>\n",
              "      <td>2021-03-11 19:00:21</td>\n",
              "      <td>cocacola</td>\n",
              "    </tr>\n",
              "    <tr>\n",
              "      <th>5</th>\n",
              "      <td>GraphVideo</td>\n",
              "      <td>None</td>\n",
              "      <td>Channeling positivity your way.</td>\n",
              "      <td>3204</td>\n",
              "      <td>415</td>\n",
              "      <td>CMNmf-unoLF</td>\n",
              "      <td>2021-03-09 21:09:04</td>\n",
              "      <td>cocacola</td>\n",
              "    </tr>\n",
              "    <tr>\n",
              "      <th>6</th>\n",
              "      <td>GraphImage</td>\n",
              "      <td>Photo by Coca-Cola on February 17, 2021. May b...</td>\n",
              "      <td>There’s no cap on how much we love our fans!</td>\n",
              "      <td>8604</td>\n",
              "      <td>6729</td>\n",
              "      <td>CLZ0dSfJ8Ko</td>\n",
              "      <td>2021-02-17 18:30:21</td>\n",
              "      <td>cocacola</td>\n",
              "    </tr>\n",
              "    <tr>\n",
              "      <th>7</th>\n",
              "      <td>GraphImage</td>\n",
              "      <td>Photo by Coca-Cola on February 14, 2021. May b...</td>\n",
              "      <td>Valentine’s Day? More like Valentine’s Year. (...</td>\n",
              "      <td>6450</td>\n",
              "      <td>852</td>\n",
              "      <td>CLR05MBHyPK</td>\n",
              "      <td>2021-02-14 16:00:14</td>\n",
              "      <td>cocacola</td>\n",
              "    </tr>\n",
              "    <tr>\n",
              "      <th>8</th>\n",
              "      <td>GraphImage</td>\n",
              "      <td>Photo by Coca-Cola on February 03, 2021. May b...</td>\n",
              "      <td>Together We Must amplify Black Voices of Coura...</td>\n",
              "      <td>3899</td>\n",
              "      <td>1073</td>\n",
              "      <td>CK1qc3VHGjh</td>\n",
              "      <td>2021-02-03 17:30:13</td>\n",
              "      <td>cocacola</td>\n",
              "    </tr>\n",
              "    <tr>\n",
              "      <th>9</th>\n",
              "      <td>GraphImage</td>\n",
              "      <td>Photo by Coca-Cola on February 02, 2021. May b...</td>\n",
              "      <td>Representative John Lewis spent his life fight...</td>\n",
              "      <td>4834</td>\n",
              "      <td>825</td>\n",
              "      <td>CKzJHumnabR</td>\n",
              "      <td>2021-02-02 18:00:30</td>\n",
              "      <td>cocacola</td>\n",
              "    </tr>\n",
              "  </tbody>\n",
              "</table>\n",
              "</div>"
            ],
            "text/plain": [
              "           Type  ...     Brand\n",
              "0    GraphImage  ...  cocacola\n",
              "1    GraphImage  ...  cocacola\n",
              "2  GraphSidecar  ...  cocacola\n",
              "3    GraphImage  ...  cocacola\n",
              "4    GraphImage  ...  cocacola\n",
              "5    GraphVideo  ...  cocacola\n",
              "6    GraphImage  ...  cocacola\n",
              "7    GraphImage  ...  cocacola\n",
              "8    GraphImage  ...  cocacola\n",
              "9    GraphImage  ...  cocacola\n",
              "\n",
              "[10 rows x 8 columns]"
            ]
          },
          "metadata": {
            "tags": []
          },
          "execution_count": 67
        }
      ]
    },
    {
      "cell_type": "code",
      "metadata": {
        "colab": {
          "base_uri": "https://localhost:8080/",
          "height": 1000
        },
        "id": "QuCLDjzwEj8s",
        "outputId": "024cd032-9102-40aa-a0a5-123a0d8cfb5d"
      },
      "source": [
        "brief['Day'] = brief['Timestamp'].dt.day\n",
        "brief['Month'] = brief['Timestamp'].dt.month\n",
        "brief['Hour'] = brief['Timestamp'].dt.hour\n",
        "brief['Weekday'] = brief['Timestamp'].dt.day_name()\n",
        "brief"
      ],
      "execution_count": null,
      "outputs": [
        {
          "output_type": "execute_result",
          "data": {
            "text/html": [
              "<div>\n",
              "<style scoped>\n",
              "    .dataframe tbody tr th:only-of-type {\n",
              "        vertical-align: middle;\n",
              "    }\n",
              "\n",
              "    .dataframe tbody tr th {\n",
              "        vertical-align: top;\n",
              "    }\n",
              "\n",
              "    .dataframe thead th {\n",
              "        text-align: right;\n",
              "    }\n",
              "</style>\n",
              "<table border=\"1\" class=\"dataframe\">\n",
              "  <thead>\n",
              "    <tr style=\"text-align: right;\">\n",
              "      <th></th>\n",
              "      <th>Type</th>\n",
              "      <th>Description</th>\n",
              "      <th>Caption</th>\n",
              "      <th>Likes</th>\n",
              "      <th>Comments</th>\n",
              "      <th>ID</th>\n",
              "      <th>Timestamp</th>\n",
              "      <th>Brand</th>\n",
              "      <th>Day</th>\n",
              "      <th>Month</th>\n",
              "      <th>Hour</th>\n",
              "      <th>Weekday</th>\n",
              "    </tr>\n",
              "  </thead>\n",
              "  <tbody>\n",
              "    <tr>\n",
              "      <th>0</th>\n",
              "      <td>GraphImage</td>\n",
              "      <td>Photo by Coca-Cola on May 03, 2021. May be an ...</td>\n",
              "      <td>Two little words, so much flavor. Comment the ...</td>\n",
              "      <td>3151</td>\n",
              "      <td>217</td>\n",
              "      <td>COa8EdZnfrY</td>\n",
              "      <td>2021-05-03 18:30:17</td>\n",
              "      <td>cocacola</td>\n",
              "      <td>3</td>\n",
              "      <td>5</td>\n",
              "      <td>18</td>\n",
              "      <td>Monday</td>\n",
              "    </tr>\n",
              "    <tr>\n",
              "      <th>1</th>\n",
              "      <td>GraphImage</td>\n",
              "      <td>Photo by Coca-Cola on April 30, 2021. May be a...</td>\n",
              "      <td>Happiness is the best interior decorator. Tag ...</td>\n",
              "      <td>8508</td>\n",
              "      <td>250</td>\n",
              "      <td>COSyNzqMT4f</td>\n",
              "      <td>2021-04-30 14:30:16</td>\n",
              "      <td>cocacola</td>\n",
              "      <td>30</td>\n",
              "      <td>4</td>\n",
              "      <td>14</td>\n",
              "      <td>Friday</td>\n",
              "    </tr>\n",
              "    <tr>\n",
              "      <th>2</th>\n",
              "      <td>GraphSidecar</td>\n",
              "      <td>Photo by Coca-Cola on April 27, 2021.</td>\n",
              "      <td>Can you make it to the middle of the maze? Swi...</td>\n",
              "      <td>6011</td>\n",
              "      <td>201</td>\n",
              "      <td>COK9QS-H7aj</td>\n",
              "      <td>2021-04-27 13:32:39</td>\n",
              "      <td>cocacola</td>\n",
              "      <td>27</td>\n",
              "      <td>4</td>\n",
              "      <td>13</td>\n",
              "      <td>Tuesday</td>\n",
              "    </tr>\n",
              "    <tr>\n",
              "      <th>3</th>\n",
              "      <td>GraphImage</td>\n",
              "      <td>Photo by Coca-Cola on March 24, 2021. May be a...</td>\n",
              "      <td>We condemn the racist incidents targeting the ...</td>\n",
              "      <td>10410</td>\n",
              "      <td>3993</td>\n",
              "      <td>CMz-9qLH5rB</td>\n",
              "      <td>2021-03-24 18:53:47</td>\n",
              "      <td>cocacola</td>\n",
              "      <td>24</td>\n",
              "      <td>3</td>\n",
              "      <td>18</td>\n",
              "      <td>Wednesday</td>\n",
              "    </tr>\n",
              "    <tr>\n",
              "      <th>4</th>\n",
              "      <td>GraphImage</td>\n",
              "      <td>Photo by Coca-Cola on March 11, 2021.</td>\n",
              "      <td>Coca-Cola is a wonderfully refreshing piece of...</td>\n",
              "      <td>5881</td>\n",
              "      <td>1200</td>\n",
              "      <td>CMShYVenVOh</td>\n",
              "      <td>2021-03-11 19:00:21</td>\n",
              "      <td>cocacola</td>\n",
              "      <td>11</td>\n",
              "      <td>3</td>\n",
              "      <td>19</td>\n",
              "      <td>Thursday</td>\n",
              "    </tr>\n",
              "    <tr>\n",
              "      <th>5</th>\n",
              "      <td>GraphVideo</td>\n",
              "      <td>None</td>\n",
              "      <td>Channeling positivity your way.</td>\n",
              "      <td>3204</td>\n",
              "      <td>415</td>\n",
              "      <td>CMNmf-unoLF</td>\n",
              "      <td>2021-03-09 21:09:04</td>\n",
              "      <td>cocacola</td>\n",
              "      <td>9</td>\n",
              "      <td>3</td>\n",
              "      <td>21</td>\n",
              "      <td>Tuesday</td>\n",
              "    </tr>\n",
              "    <tr>\n",
              "      <th>6</th>\n",
              "      <td>GraphImage</td>\n",
              "      <td>Photo by Coca-Cola on February 17, 2021. May b...</td>\n",
              "      <td>There’s no cap on how much we love our fans!</td>\n",
              "      <td>8604</td>\n",
              "      <td>6729</td>\n",
              "      <td>CLZ0dSfJ8Ko</td>\n",
              "      <td>2021-02-17 18:30:21</td>\n",
              "      <td>cocacola</td>\n",
              "      <td>17</td>\n",
              "      <td>2</td>\n",
              "      <td>18</td>\n",
              "      <td>Wednesday</td>\n",
              "    </tr>\n",
              "    <tr>\n",
              "      <th>7</th>\n",
              "      <td>GraphImage</td>\n",
              "      <td>Photo by Coca-Cola on February 14, 2021. May b...</td>\n",
              "      <td>Valentine’s Day? More like Valentine’s Year. (...</td>\n",
              "      <td>6450</td>\n",
              "      <td>852</td>\n",
              "      <td>CLR05MBHyPK</td>\n",
              "      <td>2021-02-14 16:00:14</td>\n",
              "      <td>cocacola</td>\n",
              "      <td>14</td>\n",
              "      <td>2</td>\n",
              "      <td>16</td>\n",
              "      <td>Sunday</td>\n",
              "    </tr>\n",
              "    <tr>\n",
              "      <th>8</th>\n",
              "      <td>GraphImage</td>\n",
              "      <td>Photo by Coca-Cola on February 03, 2021. May b...</td>\n",
              "      <td>Together We Must amplify Black Voices of Coura...</td>\n",
              "      <td>3899</td>\n",
              "      <td>1073</td>\n",
              "      <td>CK1qc3VHGjh</td>\n",
              "      <td>2021-02-03 17:30:13</td>\n",
              "      <td>cocacola</td>\n",
              "      <td>3</td>\n",
              "      <td>2</td>\n",
              "      <td>17</td>\n",
              "      <td>Wednesday</td>\n",
              "    </tr>\n",
              "    <tr>\n",
              "      <th>9</th>\n",
              "      <td>GraphImage</td>\n",
              "      <td>Photo by Coca-Cola on February 02, 2021. May b...</td>\n",
              "      <td>Representative John Lewis spent his life fight...</td>\n",
              "      <td>4834</td>\n",
              "      <td>825</td>\n",
              "      <td>CKzJHumnabR</td>\n",
              "      <td>2021-02-02 18:00:30</td>\n",
              "      <td>cocacola</td>\n",
              "      <td>2</td>\n",
              "      <td>2</td>\n",
              "      <td>18</td>\n",
              "      <td>Tuesday</td>\n",
              "    </tr>\n",
              "    <tr>\n",
              "      <th>10</th>\n",
              "      <td>GraphImage</td>\n",
              "      <td>Photo by Coca-Cola on February 01, 2021. May b...</td>\n",
              "      <td>In honor of Black History Month, we celebrate ...</td>\n",
              "      <td>3860</td>\n",
              "      <td>275</td>\n",
              "      <td>CKwWkNqs4JY</td>\n",
              "      <td>2021-02-01 16:00:16</td>\n",
              "      <td>cocacola</td>\n",
              "      <td>1</td>\n",
              "      <td>2</td>\n",
              "      <td>16</td>\n",
              "      <td>Monday</td>\n",
              "    </tr>\n",
              "    <tr>\n",
              "      <th>11</th>\n",
              "      <td>GraphImage</td>\n",
              "      <td>Photo by Coca-Cola on January 29, 2021. May be...</td>\n",
              "      <td>W̶r̶o̶n̶g̶ right answers only, positive energy...</td>\n",
              "      <td>4219</td>\n",
              "      <td>283</td>\n",
              "      <td>CKo16RcHHFU</td>\n",
              "      <td>2021-01-29 18:00:14</td>\n",
              "      <td>cocacola</td>\n",
              "      <td>29</td>\n",
              "      <td>1</td>\n",
              "      <td>18</td>\n",
              "      <td>Friday</td>\n",
              "    </tr>\n",
              "    <tr>\n",
              "      <th>12</th>\n",
              "      <td>GraphVideo</td>\n",
              "      <td>None</td>\n",
              "      <td>Check out this 🔥🔥 team!! @ch14_ and @leomessi ...</td>\n",
              "      <td>22737</td>\n",
              "      <td>210</td>\n",
              "      <td>COdPtSmnoBc</td>\n",
              "      <td>2021-05-04 16:00:28</td>\n",
              "      <td>pepsi</td>\n",
              "      <td>4</td>\n",
              "      <td>5</td>\n",
              "      <td>16</td>\n",
              "      <td>Tuesday</td>\n",
              "    </tr>\n",
              "    <tr>\n",
              "      <th>13</th>\n",
              "      <td>GraphImage</td>\n",
              "      <td>Photo by pepsi on May 03, 2021. May be an imag...</td>\n",
              "      <td>We know you love enjoying your favorite meals ...</td>\n",
              "      <td>16468</td>\n",
              "      <td>314</td>\n",
              "      <td>COaq5IhnClK</td>\n",
              "      <td>2021-05-03 16:00:03</td>\n",
              "      <td>pepsi</td>\n",
              "      <td>3</td>\n",
              "      <td>5</td>\n",
              "      <td>16</td>\n",
              "      <td>Monday</td>\n",
              "    </tr>\n",
              "    <tr>\n",
              "      <th>14</th>\n",
              "      <td>GraphImage</td>\n",
              "      <td>Photo by pepsi on April 29, 2021. May be an im...</td>\n",
              "      <td>We always know how to make an entrance.</td>\n",
              "      <td>7587</td>\n",
              "      <td>162</td>\n",
              "      <td>COQzL0TFK77</td>\n",
              "      <td>2021-04-29 20:00:07</td>\n",
              "      <td>pepsi</td>\n",
              "      <td>29</td>\n",
              "      <td>4</td>\n",
              "      <td>20</td>\n",
              "      <td>Thursday</td>\n",
              "    </tr>\n",
              "    <tr>\n",
              "      <th>15</th>\n",
              "      <td>GraphSidecar</td>\n",
              "      <td>Photo by pepsi on April 21, 2021. May be an im...</td>\n",
              "      <td>Will your favorite reality stars find their pe...</td>\n",
              "      <td>4189</td>\n",
              "      <td>242</td>\n",
              "      <td>CN8a2h8nH9M</td>\n",
              "      <td>2021-04-21 22:02:40</td>\n",
              "      <td>pepsi</td>\n",
              "      <td>21</td>\n",
              "      <td>4</td>\n",
              "      <td>22</td>\n",
              "      <td>Wednesday</td>\n",
              "    </tr>\n",
              "    <tr>\n",
              "      <th>16</th>\n",
              "      <td>GraphImage</td>\n",
              "      <td>Photo by pepsi on April 15, 2021. May be an im...</td>\n",
              "      <td>Drop some 🥭🥭🥭 if Pepsi Mango is your perfect m...</td>\n",
              "      <td>14108</td>\n",
              "      <td>647</td>\n",
              "      <td>CNsUmlSnUue</td>\n",
              "      <td>2021-04-15 16:00:15</td>\n",
              "      <td>pepsi</td>\n",
              "      <td>15</td>\n",
              "      <td>4</td>\n",
              "      <td>16</td>\n",
              "      <td>Thursday</td>\n",
              "    </tr>\n",
              "    <tr>\n",
              "      <th>17</th>\n",
              "      <td>GraphSidecar</td>\n",
              "      <td>None</td>\n",
              "      <td>You can still hit us up! DM or Call 1-833-MANG...</td>\n",
              "      <td>2510</td>\n",
              "      <td>64</td>\n",
              "      <td>CNqEZNuncJW</td>\n",
              "      <td>2021-04-14 19:00:05</td>\n",
              "      <td>pepsi</td>\n",
              "      <td>14</td>\n",
              "      <td>4</td>\n",
              "      <td>19</td>\n",
              "      <td>Wednesday</td>\n",
              "    </tr>\n",
              "    <tr>\n",
              "      <th>18</th>\n",
              "      <td>GraphVideo</td>\n",
              "      <td>None</td>\n",
              "      <td>Tag someone who gives you a bubbly feeling ins...</td>\n",
              "      <td>7601</td>\n",
              "      <td>281</td>\n",
              "      <td>CNk3X2qrmJ3</td>\n",
              "      <td>2021-04-12 18:30:14</td>\n",
              "      <td>pepsi</td>\n",
              "      <td>12</td>\n",
              "      <td>4</td>\n",
              "      <td>18</td>\n",
              "      <td>Monday</td>\n",
              "    </tr>\n",
              "    <tr>\n",
              "      <th>19</th>\n",
              "      <td>GraphSidecar</td>\n",
              "      <td>Photo by pepsi on April 08, 2021. May be an im...</td>\n",
              "      <td>Don’t forget to shoot your shot with our singl...</td>\n",
              "      <td>3132</td>\n",
              "      <td>135</td>\n",
              "      <td>CNaZ5i4nvA6</td>\n",
              "      <td>2021-04-08 17:00:09</td>\n",
              "      <td>pepsi</td>\n",
              "      <td>8</td>\n",
              "      <td>4</td>\n",
              "      <td>17</td>\n",
              "      <td>Thursday</td>\n",
              "    </tr>\n",
              "    <tr>\n",
              "      <th>20</th>\n",
              "      <td>GraphSidecar</td>\n",
              "      <td>None</td>\n",
              "      <td>🔊 On - Not sure how to break the ice? Take not...</td>\n",
              "      <td>2379</td>\n",
              "      <td>116</td>\n",
              "      <td>CNYDGRfHuyZ</td>\n",
              "      <td>2021-04-07 19:02:26</td>\n",
              "      <td>pepsi</td>\n",
              "      <td>7</td>\n",
              "      <td>4</td>\n",
              "      <td>19</td>\n",
              "      <td>Wednesday</td>\n",
              "    </tr>\n",
              "    <tr>\n",
              "      <th>21</th>\n",
              "      <td>GraphVideo</td>\n",
              "      <td>None</td>\n",
              "      <td>How much do you 💙LIKE💙 Pepsi Wild Cherry?</td>\n",
              "      <td>4962</td>\n",
              "      <td>260</td>\n",
              "      <td>CNS10ISjv_K</td>\n",
              "      <td>2021-04-05 18:30:24</td>\n",
              "      <td>pepsi</td>\n",
              "      <td>5</td>\n",
              "      <td>4</td>\n",
              "      <td>18</td>\n",
              "      <td>Monday</td>\n",
              "    </tr>\n",
              "    <tr>\n",
              "      <th>22</th>\n",
              "      <td>GraphVideo</td>\n",
              "      <td>None</td>\n",
              "      <td>Single? Ready to mingle? DM us or call 1-833-M...</td>\n",
              "      <td>2153</td>\n",
              "      <td>128</td>\n",
              "      <td>CNGEXHIn9xh</td>\n",
              "      <td>2021-03-31 19:28:13</td>\n",
              "      <td>pepsi</td>\n",
              "      <td>31</td>\n",
              "      <td>3</td>\n",
              "      <td>19</td>\n",
              "      <td>Wednesday</td>\n",
              "    </tr>\n",
              "    <tr>\n",
              "      <th>23</th>\n",
              "      <td>GraphVideo</td>\n",
              "      <td>None</td>\n",
              "      <td>You can practically hear it, can’t you?</td>\n",
              "      <td>3194</td>\n",
              "      <td>98</td>\n",
              "      <td>CNFsq9qr9Xr</td>\n",
              "      <td>2021-03-31 16:00:16</td>\n",
              "      <td>pepsi</td>\n",
              "      <td>31</td>\n",
              "      <td>3</td>\n",
              "      <td>16</td>\n",
              "      <td>Wednesday</td>\n",
              "    </tr>\n",
              "    <tr>\n",
              "      <th>24</th>\n",
              "      <td>GraphVideo</td>\n",
              "      <td>None</td>\n",
              "      <td>Once again, it’s on you. Tell us which unsigne...</td>\n",
              "      <td>1891</td>\n",
              "      <td>5553</td>\n",
              "      <td>CONrXUhBUiA</td>\n",
              "      <td>2021-04-28 14:54:43</td>\n",
              "      <td>sprite</td>\n",
              "      <td>28</td>\n",
              "      <td>4</td>\n",
              "      <td>14</td>\n",
              "      <td>Wednesday</td>\n",
              "    </tr>\n",
              "    <tr>\n",
              "      <th>25</th>\n",
              "      <td>GraphVideo</td>\n",
              "      <td>None</td>\n",
              "      <td>Never let anything get in the way of achieving...</td>\n",
              "      <td>878</td>\n",
              "      <td>66</td>\n",
              "      <td>CN2qr19pv5l</td>\n",
              "      <td>2021-04-19 16:26:01</td>\n",
              "      <td>sprite</td>\n",
              "      <td>19</td>\n",
              "      <td>4</td>\n",
              "      <td>16</td>\n",
              "      <td>Monday</td>\n",
              "    </tr>\n",
              "    <tr>\n",
              "      <th>26</th>\n",
              "      <td>GraphVideo</td>\n",
              "      <td>None</td>\n",
              "      <td>Your voice. Your power. Your way. Shoutout to ...</td>\n",
              "      <td>703</td>\n",
              "      <td>74</td>\n",
              "      <td>CNvczqCBGNu</td>\n",
              "      <td>2021-04-16 21:10:10</td>\n",
              "      <td>sprite</td>\n",
              "      <td>16</td>\n",
              "      <td>4</td>\n",
              "      <td>21</td>\n",
              "      <td>Friday</td>\n",
              "    </tr>\n",
              "    <tr>\n",
              "      <th>27</th>\n",
              "      <td>GraphSidecar</td>\n",
              "      <td>None</td>\n",
              "      <td>FOR YOUR CONSIDERATION: “Cinderella99” by #Spr...</td>\n",
              "      <td>1432</td>\n",
              "      <td>80</td>\n",
              "      <td>CMU0AWEB0lL</td>\n",
              "      <td>2021-03-12 16:21:26</td>\n",
              "      <td>sprite</td>\n",
              "      <td>12</td>\n",
              "      <td>3</td>\n",
              "      <td>16</td>\n",
              "      <td>Friday</td>\n",
              "    </tr>\n",
              "    <tr>\n",
              "      <th>28</th>\n",
              "      <td>GraphSidecar</td>\n",
              "      <td>None</td>\n",
              "      <td>FOR YOUR CONSIDERATION: “Don’t Matter” by @wea...</td>\n",
              "      <td>1639</td>\n",
              "      <td>121</td>\n",
              "      <td>CMQB_8-B49g</td>\n",
              "      <td>2021-03-10 19:47:31</td>\n",
              "      <td>sprite</td>\n",
              "      <td>10</td>\n",
              "      <td>3</td>\n",
              "      <td>19</td>\n",
              "      <td>Wednesday</td>\n",
              "    </tr>\n",
              "    <tr>\n",
              "      <th>29</th>\n",
              "      <td>GraphSidecar</td>\n",
              "      <td>None</td>\n",
              "      <td>FOR YOUR CONSIDERATION: “Breathe” by #SpriteWa...</td>\n",
              "      <td>1554</td>\n",
              "      <td>40</td>\n",
              "      <td>CMKv4Y5B104</td>\n",
              "      <td>2021-03-08 18:33:00</td>\n",
              "      <td>sprite</td>\n",
              "      <td>8</td>\n",
              "      <td>3</td>\n",
              "      <td>18</td>\n",
              "      <td>Monday</td>\n",
              "    </tr>\n",
              "    <tr>\n",
              "      <th>30</th>\n",
              "      <td>GraphVideo</td>\n",
              "      <td>None</td>\n",
              "      <td>This V-Day szn, whether you’re partying on the...</td>\n",
              "      <td>762</td>\n",
              "      <td>61</td>\n",
              "      <td>CLMtm7dH5_F</td>\n",
              "      <td>2021-02-12 16:20:38</td>\n",
              "      <td>sprite</td>\n",
              "      <td>12</td>\n",
              "      <td>2</td>\n",
              "      <td>16</td>\n",
              "      <td>Friday</td>\n",
              "    </tr>\n",
              "    <tr>\n",
              "      <th>31</th>\n",
              "      <td>GraphVideo</td>\n",
              "      <td>None</td>\n",
              "      <td>It’s Black History M̶o̶n̶t̶h̶ Year 👊</td>\n",
              "      <td>1217</td>\n",
              "      <td>64</td>\n",
              "      <td>CLHiOBnH30Q</td>\n",
              "      <td>2021-02-10 16:04:36</td>\n",
              "      <td>sprite</td>\n",
              "      <td>10</td>\n",
              "      <td>2</td>\n",
              "      <td>16</td>\n",
              "      <td>Wednesday</td>\n",
              "    </tr>\n",
              "    <tr>\n",
              "      <th>32</th>\n",
              "      <td>GraphVideo</td>\n",
              "      <td>None</td>\n",
              "      <td>2021 is your year for a fresh start, and we’ve...</td>\n",
              "      <td>1192</td>\n",
              "      <td>59</td>\n",
              "      <td>CKwTb3lHAwW</td>\n",
              "      <td>2021-02-01 15:33:28</td>\n",
              "      <td>sprite</td>\n",
              "      <td>1</td>\n",
              "      <td>2</td>\n",
              "      <td>15</td>\n",
              "      <td>Monday</td>\n",
              "    </tr>\n",
              "    <tr>\n",
              "      <th>33</th>\n",
              "      <td>GraphVideo</td>\n",
              "      <td>None</td>\n",
              "      <td>You’re ready for a fresh start in 2021. We’re ...</td>\n",
              "      <td>905</td>\n",
              "      <td>131</td>\n",
              "      <td>CKeR0onHstx</td>\n",
              "      <td>2021-01-25 15:32:30</td>\n",
              "      <td>sprite</td>\n",
              "      <td>25</td>\n",
              "      <td>1</td>\n",
              "      <td>15</td>\n",
              "      <td>Monday</td>\n",
              "    </tr>\n",
              "    <tr>\n",
              "      <th>34</th>\n",
              "      <td>GraphVideo</td>\n",
              "      <td>None</td>\n",
              "      <td>This year is finally ending, but luckily, the ...</td>\n",
              "      <td>891</td>\n",
              "      <td>62</td>\n",
              "      <td>CJWLTk3HKbD</td>\n",
              "      <td>2020-12-28 15:30:42</td>\n",
              "      <td>sprite</td>\n",
              "      <td>28</td>\n",
              "      <td>12</td>\n",
              "      <td>15</td>\n",
              "      <td>Monday</td>\n",
              "    </tr>\n",
              "    <tr>\n",
              "      <th>35</th>\n",
              "      <td>GraphSidecar</td>\n",
              "      <td>Photo by Sprite on December 22, 2020. May be a...</td>\n",
              "      <td>We’ve got the keys to help you hustle in 2021....</td>\n",
              "      <td>1515</td>\n",
              "      <td>48</td>\n",
              "      <td>CJG3MVADxem</td>\n",
              "      <td>2020-12-22 16:45:44</td>\n",
              "      <td>sprite</td>\n",
              "      <td>22</td>\n",
              "      <td>12</td>\n",
              "      <td>16</td>\n",
              "      <td>Tuesday</td>\n",
              "    </tr>\n",
              "  </tbody>\n",
              "</table>\n",
              "</div>"
            ],
            "text/plain": [
              "            Type  ...    Weekday\n",
              "0     GraphImage  ...     Monday\n",
              "1     GraphImage  ...     Friday\n",
              "2   GraphSidecar  ...    Tuesday\n",
              "3     GraphImage  ...  Wednesday\n",
              "4     GraphImage  ...   Thursday\n",
              "5     GraphVideo  ...    Tuesday\n",
              "6     GraphImage  ...  Wednesday\n",
              "7     GraphImage  ...     Sunday\n",
              "8     GraphImage  ...  Wednesday\n",
              "9     GraphImage  ...    Tuesday\n",
              "10    GraphImage  ...     Monday\n",
              "11    GraphImage  ...     Friday\n",
              "12    GraphVideo  ...    Tuesday\n",
              "13    GraphImage  ...     Monday\n",
              "14    GraphImage  ...   Thursday\n",
              "15  GraphSidecar  ...  Wednesday\n",
              "16    GraphImage  ...   Thursday\n",
              "17  GraphSidecar  ...  Wednesday\n",
              "18    GraphVideo  ...     Monday\n",
              "19  GraphSidecar  ...   Thursday\n",
              "20  GraphSidecar  ...  Wednesday\n",
              "21    GraphVideo  ...     Monday\n",
              "22    GraphVideo  ...  Wednesday\n",
              "23    GraphVideo  ...  Wednesday\n",
              "24    GraphVideo  ...  Wednesday\n",
              "25    GraphVideo  ...     Monday\n",
              "26    GraphVideo  ...     Friday\n",
              "27  GraphSidecar  ...     Friday\n",
              "28  GraphSidecar  ...  Wednesday\n",
              "29  GraphSidecar  ...     Monday\n",
              "30    GraphVideo  ...     Friday\n",
              "31    GraphVideo  ...  Wednesday\n",
              "32    GraphVideo  ...     Monday\n",
              "33    GraphVideo  ...     Monday\n",
              "34    GraphVideo  ...     Monday\n",
              "35  GraphSidecar  ...    Tuesday\n",
              "\n",
              "[36 rows x 12 columns]"
            ]
          },
          "metadata": {
            "tags": []
          },
          "execution_count": 68
        }
      ]
    },
    {
      "cell_type": "code",
      "metadata": {
        "colab": {
          "base_uri": "https://localhost:8080/"
        },
        "id": "3ci_5PpfPZeh",
        "outputId": "080a24fa-0df6-4b28-f2ff-53ebb4a4a166"
      },
      "source": [
        "brief.info()"
      ],
      "execution_count": null,
      "outputs": [
        {
          "output_type": "stream",
          "text": [
            "<class 'pandas.core.frame.DataFrame'>\n",
            "RangeIndex: 36 entries, 0 to 35\n",
            "Data columns (total 12 columns):\n",
            " #   Column       Non-Null Count  Dtype         \n",
            "---  ------       --------------  -----         \n",
            " 0   Type         36 non-null     object        \n",
            " 1   Description  17 non-null     object        \n",
            " 2   Caption      36 non-null     object        \n",
            " 3   Likes        36 non-null     int64         \n",
            " 4   Comments     36 non-null     int64         \n",
            " 5   ID           36 non-null     object        \n",
            " 6   Timestamp    36 non-null     datetime64[ns]\n",
            " 7   Brand        36 non-null     object        \n",
            " 8   Day          36 non-null     int64         \n",
            " 9   Month        36 non-null     int64         \n",
            " 10  Hour         36 non-null     int64         \n",
            " 11  Weekday      36 non-null     object        \n",
            "dtypes: datetime64[ns](1), int64(5), object(6)\n",
            "memory usage: 3.5+ KB\n"
          ],
          "name": "stdout"
        }
      ]
    },
    {
      "cell_type": "code",
      "metadata": {
        "colab": {
          "base_uri": "https://localhost:8080/",
          "height": 204
        },
        "id": "QTu4fYk3OwTA",
        "outputId": "cd710a05-9688-4a8b-bafc-9311bb537e35"
      },
      "source": [
        "brief.groupby(['Brand']).agg({'Likes':['sum', 'mean'], 'Comments':['sum', 'mean']})"
      ],
      "execution_count": null,
      "outputs": [
        {
          "output_type": "execute_result",
          "data": {
            "text/html": [
              "<div>\n",
              "<style scoped>\n",
              "    .dataframe tbody tr th:only-of-type {\n",
              "        vertical-align: middle;\n",
              "    }\n",
              "\n",
              "    .dataframe tbody tr th {\n",
              "        vertical-align: top;\n",
              "    }\n",
              "\n",
              "    .dataframe thead tr th {\n",
              "        text-align: left;\n",
              "    }\n",
              "\n",
              "    .dataframe thead tr:last-of-type th {\n",
              "        text-align: right;\n",
              "    }\n",
              "</style>\n",
              "<table border=\"1\" class=\"dataframe\">\n",
              "  <thead>\n",
              "    <tr>\n",
              "      <th></th>\n",
              "      <th colspan=\"2\" halign=\"left\">Likes</th>\n",
              "      <th colspan=\"2\" halign=\"left\">Comments</th>\n",
              "    </tr>\n",
              "    <tr>\n",
              "      <th></th>\n",
              "      <th>sum</th>\n",
              "      <th>mean</th>\n",
              "      <th>sum</th>\n",
              "      <th>mean</th>\n",
              "    </tr>\n",
              "    <tr>\n",
              "      <th>Brand</th>\n",
              "      <th></th>\n",
              "      <th></th>\n",
              "      <th></th>\n",
              "      <th></th>\n",
              "    </tr>\n",
              "  </thead>\n",
              "  <tbody>\n",
              "    <tr>\n",
              "      <th>cocacola</th>\n",
              "      <td>69031</td>\n",
              "      <td>5752.583333</td>\n",
              "      <td>16313</td>\n",
              "      <td>1359.416667</td>\n",
              "    </tr>\n",
              "    <tr>\n",
              "      <th>pepsi</th>\n",
              "      <td>91020</td>\n",
              "      <td>7585.000000</td>\n",
              "      <td>2657</td>\n",
              "      <td>221.416667</td>\n",
              "    </tr>\n",
              "    <tr>\n",
              "      <th>sprite</th>\n",
              "      <td>14579</td>\n",
              "      <td>1214.916667</td>\n",
              "      <td>6359</td>\n",
              "      <td>529.916667</td>\n",
              "    </tr>\n",
              "  </tbody>\n",
              "</table>\n",
              "</div>"
            ],
            "text/plain": [
              "          Likes              Comments             \n",
              "            sum         mean      sum         mean\n",
              "Brand                                             \n",
              "cocacola  69031  5752.583333    16313  1359.416667\n",
              "pepsi     91020  7585.000000     2657   221.416667\n",
              "sprite    14579  1214.916667     6359   529.916667"
            ]
          },
          "metadata": {
            "tags": []
          },
          "execution_count": 70
        }
      ]
    },
    {
      "cell_type": "code",
      "metadata": {
        "colab": {
          "base_uri": "https://localhost:8080/",
          "height": 279
        },
        "id": "EWwB-07tHfwM",
        "outputId": "af8ec1b2-dfa6-4e32-d31c-8376dfea1df4"
      },
      "source": [
        "brand_general = brief.groupby(['Brand', 'Month']).agg({'ID':'count'}).reset_index()\n",
        "sns.barplot(data=brand_general, x=\"Month\", y=\"ID\", hue=\"Brand\")\n",
        "plt.show()"
      ],
      "execution_count": null,
      "outputs": [
        {
          "output_type": "display_data",
          "data": {
            "image/png": "[encoded data removed]",
            "text/plain": [
              "<Figure size 432x288 with 1 Axes>"
            ]
          },
          "metadata": {
            "tags": [],
            "needs_background": "light"
          }
        }
      ]
    },
    {
      "cell_type": "code",
      "metadata": {
        "colab": {
          "base_uri": "https://localhost:8080/",
          "height": 279
        },
        "id": "GkASpv2pK4kV",
        "outputId": "8b48df29-ed34-4dc0-cd12-1f054ebb8a54"
      },
      "source": [
        "brand_general_type = brief.groupby(['Brand', 'Type']).agg({'ID':'count'}).reset_index()\n",
        "sns.barplot(data=brand_general_type, x=\"Brand\", y=\"ID\", hue=\"Type\")\n",
        "plt.show()"
      ],
      "execution_count": null,
      "outputs": [
        {
          "output_type": "display_data",
          "data": {
            "image/png": "[encoded data removed]",
            "text/plain": [
              "<Figure size 432x288 with 1 Axes>"
            ]
          },
          "metadata": {
            "tags": [],
            "needs_background": "light"
          }
        }
      ]
    },
    {
      "cell_type": "code",
      "metadata": {
        "colab": {
          "base_uri": "https://localhost:8080/",
          "height": 279
        },
        "id": "KDN8QBMDNlZN",
        "outputId": "2ce77da6-8cac-4224-d7c3-912c587bbf10"
      },
      "source": [
        "brand_general_weekday = brief.groupby(['Brand', 'Weekday']).agg({'ID':'count'}).reset_index()\n",
        "sns.barplot(data=brand_general_weekday, x=\"Weekday\", y=\"ID\", hue=\"Brand\")\n",
        "plt.show()"
      ],
      "execution_count": null,
      "outputs": [
        {
          "output_type": "display_data",
          "data": {
            "image/png": "[encoded data removed]",
            "text/plain": [
              "<Figure size 432x288 with 1 Axes>"
            ]
          },
          "metadata": {
            "tags": [],
            "needs_background": "light"
          }
        }
      ]
    },
    {
      "cell_type": "code",
      "metadata": {
        "colab": {
          "base_uri": "https://localhost:8080/",
          "height": 279
        },
        "id": "pcNOHwBYOF_N",
        "outputId": "ddaf4c30-4efa-44e8-ee7c-46d235657429"
      },
      "source": [
        "brand_general_hour = brief.groupby(['Brand', 'Hour']).agg({'ID':'count'}).reset_index()\n",
        "sns.barplot(data=brand_general_hour, x=\"Hour\", y=\"ID\", hue=\"Brand\")\n",
        "plt.show()"
      ],
      "execution_count": null,
      "outputs": [
        {
          "output_type": "display_data",
          "data": {
            "image/png": "[encoded data removed]",
            "text/plain": [
              "<Figure size 432x288 with 1 Axes>"
            ]
          },
          "metadata": {
            "tags": [],
            "needs_background": "light"
          }
        }
      ]
    },
    {
      "cell_type": "code",
      "metadata": {
        "colab": {
          "base_uri": "https://localhost:8080/",
          "height": 669
        },
        "id": "hcjA6xfHt3a9",
        "outputId": "9ec22240-9280-4e72-ee7f-b36a04a6d262"
      },
      "source": [
        "brief.groupby(['Brand', 'Month', 'Type']).agg({'ID':'count'})"
      ],
      "execution_count": null,
      "outputs": [
        {
          "output_type": "execute_result",
          "data": {
            "text/html": [
              "<div>\n",
              "<style scoped>\n",
              "    .dataframe tbody tr th:only-of-type {\n",
              "        vertical-align: middle;\n",
              "    }\n",
              "\n",
              "    .dataframe tbody tr th {\n",
              "        vertical-align: top;\n",
              "    }\n",
              "\n",
              "    .dataframe thead th {\n",
              "        text-align: right;\n",
              "    }\n",
              "</style>\n",
              "<table border=\"1\" class=\"dataframe\">\n",
              "  <thead>\n",
              "    <tr style=\"text-align: right;\">\n",
              "      <th></th>\n",
              "      <th></th>\n",
              "      <th></th>\n",
              "      <th>ID</th>\n",
              "    </tr>\n",
              "    <tr>\n",
              "      <th>Brand</th>\n",
              "      <th>Month</th>\n",
              "      <th>Type</th>\n",
              "      <th></th>\n",
              "    </tr>\n",
              "  </thead>\n",
              "  <tbody>\n",
              "    <tr>\n",
              "      <th rowspan=\"7\" valign=\"top\">cocacola</th>\n",
              "      <th>1</th>\n",
              "      <th>GraphImage</th>\n",
              "      <td>1</td>\n",
              "    </tr>\n",
              "    <tr>\n",
              "      <th>2</th>\n",
              "      <th>GraphImage</th>\n",
              "      <td>5</td>\n",
              "    </tr>\n",
              "    <tr>\n",
              "      <th rowspan=\"2\" valign=\"top\">3</th>\n",
              "      <th>GraphImage</th>\n",
              "      <td>2</td>\n",
              "    </tr>\n",
              "    <tr>\n",
              "      <th>GraphVideo</th>\n",
              "      <td>1</td>\n",
              "    </tr>\n",
              "    <tr>\n",
              "      <th rowspan=\"2\" valign=\"top\">4</th>\n",
              "      <th>GraphImage</th>\n",
              "      <td>1</td>\n",
              "    </tr>\n",
              "    <tr>\n",
              "      <th>GraphSidecar</th>\n",
              "      <td>1</td>\n",
              "    </tr>\n",
              "    <tr>\n",
              "      <th>5</th>\n",
              "      <th>GraphImage</th>\n",
              "      <td>1</td>\n",
              "    </tr>\n",
              "    <tr>\n",
              "      <th rowspan=\"6\" valign=\"top\">pepsi</th>\n",
              "      <th>3</th>\n",
              "      <th>GraphVideo</th>\n",
              "      <td>2</td>\n",
              "    </tr>\n",
              "    <tr>\n",
              "      <th rowspan=\"3\" valign=\"top\">4</th>\n",
              "      <th>GraphImage</th>\n",
              "      <td>2</td>\n",
              "    </tr>\n",
              "    <tr>\n",
              "      <th>GraphSidecar</th>\n",
              "      <td>4</td>\n",
              "    </tr>\n",
              "    <tr>\n",
              "      <th>GraphVideo</th>\n",
              "      <td>2</td>\n",
              "    </tr>\n",
              "    <tr>\n",
              "      <th rowspan=\"2\" valign=\"top\">5</th>\n",
              "      <th>GraphImage</th>\n",
              "      <td>1</td>\n",
              "    </tr>\n",
              "    <tr>\n",
              "      <th>GraphVideo</th>\n",
              "      <td>1</td>\n",
              "    </tr>\n",
              "    <tr>\n",
              "      <th rowspan=\"6\" valign=\"top\">sprite</th>\n",
              "      <th>1</th>\n",
              "      <th>GraphVideo</th>\n",
              "      <td>1</td>\n",
              "    </tr>\n",
              "    <tr>\n",
              "      <th>2</th>\n",
              "      <th>GraphVideo</th>\n",
              "      <td>3</td>\n",
              "    </tr>\n",
              "    <tr>\n",
              "      <th>3</th>\n",
              "      <th>GraphSidecar</th>\n",
              "      <td>3</td>\n",
              "    </tr>\n",
              "    <tr>\n",
              "      <th>4</th>\n",
              "      <th>GraphVideo</th>\n",
              "      <td>3</td>\n",
              "    </tr>\n",
              "    <tr>\n",
              "      <th rowspan=\"2\" valign=\"top\">12</th>\n",
              "      <th>GraphSidecar</th>\n",
              "      <td>1</td>\n",
              "    </tr>\n",
              "    <tr>\n",
              "      <th>GraphVideo</th>\n",
              "      <td>1</td>\n",
              "    </tr>\n",
              "  </tbody>\n",
              "</table>\n",
              "</div>"
            ],
            "text/plain": [
              "                             ID\n",
              "Brand    Month Type            \n",
              "cocacola 1     GraphImage     1\n",
              "         2     GraphImage     5\n",
              "         3     GraphImage     2\n",
              "               GraphVideo     1\n",
              "         4     GraphImage     1\n",
              "               GraphSidecar   1\n",
              "         5     GraphImage     1\n",
              "pepsi    3     GraphVideo     2\n",
              "         4     GraphImage     2\n",
              "               GraphSidecar   4\n",
              "               GraphVideo     2\n",
              "         5     GraphImage     1\n",
              "               GraphVideo     1\n",
              "sprite   1     GraphVideo     1\n",
              "         2     GraphVideo     3\n",
              "         3     GraphSidecar   3\n",
              "         4     GraphVideo     3\n",
              "         12    GraphSidecar   1\n",
              "               GraphVideo     1"
            ]
          },
          "metadata": {
            "tags": []
          },
          "execution_count": 75
        }
      ]
    },
    {
      "cell_type": "code",
      "metadata": {
        "id": "m-JB-_-bKZje",
        "colab": {
          "base_uri": "https://localhost:8080/",
          "height": 621
        },
        "outputId": "9b858a51-f221-4d01-8617-60d440a8ed5f"
      },
      "source": [
        "brief['Type'] = brief['Type'].astype('category')\n",
        "plt.figure(figsize=(10, 10))\n",
        "plt.scatter(\n",
        "    x = brief[brief.Brand == 'cocacola']['Timestamp'], \n",
        "    y = brief[brief.Brand == 'cocacola']['Comments'], \n",
        "    s = brief[brief.Brand == 'cocacola']['Likes']/5, \n",
        "    c = brief[brief.Brand == 'cocacola']['Type'].cat.codes, \n",
        "    cmap=\"Accent\", \n",
        "    alpha=0.6, \n",
        "    edgecolors=\"white\", \n",
        "    linewidth=2);\n",
        "plt.title('Cocacola')\n",
        "plt.xlabel(\"Time\")\n",
        "plt.ylabel(\"Comments\")\n",
        "plt.show()"
      ],
      "execution_count": null,
      "outputs": [
        {
          "output_type": "display_data",
          "data": {
            "image/png": "[encoded data removed]",
            "text/plain": [
              "<Figure size 720x720 with 1 Axes>"
            ]
          },
          "metadata": {
            "tags": [],
            "needs_background": "light"
          }
        }
      ]
    },
    {
      "cell_type": "code",
      "metadata": {
        "colab": {
          "base_uri": "https://localhost:8080/",
          "height": 621
        },
        "id": "dwWugNm4cLtX",
        "outputId": "71e52d78-641e-4d28-d2a8-6c123b80e267"
      },
      "source": [
        "plt.figure(figsize=(15, 10))\n",
        "plt.scatter(\n",
        "    x = brief[brief.Brand == 'pepsi']['Timestamp'], \n",
        "    y = brief[brief.Brand == 'pepsi']['Comments'], \n",
        "    s = brief[brief.Brand == 'pepsi']['Likes']/5, \n",
        "    c = brief[brief.Brand == 'pepsi']['Type'].cat.codes, \n",
        "    cmap=\"Accent\", \n",
        "    alpha=0.6, \n",
        "    edgecolors=\"white\", \n",
        "    linewidth=2);\n",
        "plt.title('Pepsi')\n",
        "plt.xlabel(\"Time\")\n",
        "plt.ylabel(\"Comments\")\n",
        "plt.show()"
      ],
      "execution_count": null,
      "outputs": [
        {
          "output_type": "display_data",
          "data": {
            "image/png": "[encoded data removed]",
            "text/plain": [
              "<Figure size 1080x720 with 1 Axes>"
            ]
          },
          "metadata": {
            "tags": [],
            "needs_background": "light"
          }
        }
      ]
    },
    {
      "cell_type": "code",
      "metadata": {
        "colab": {
          "base_uri": "https://localhost:8080/",
          "height": 621
        },
        "id": "ts1nsdFucmhe",
        "outputId": "1efe4f00-72f6-4ceb-c646-daf503265511"
      },
      "source": [
        "plt.figure(figsize=(15, 10))\n",
        "plt.scatter(\n",
        "    x = brief[brief.Brand == 'sprite']['Timestamp'], \n",
        "    y = brief[brief.Brand == 'sprite']['Comments'], \n",
        "    s = brief[brief.Brand == 'sprite']['Likes']/5, \n",
        "    c = brief[brief.Brand == 'sprite']['Type'].cat.codes, \n",
        "    cmap=\"Accent\", \n",
        "    alpha=0.6, \n",
        "    edgecolors=\"white\", \n",
        "    linewidth=2);\n",
        "plt.title('Sprite')\n",
        "plt.xlabel(\"Time\")\n",
        "plt.ylabel(\"Comments\")\n",
        "plt.show()"
      ],
      "execution_count": null,
      "outputs": [
        {
          "output_type": "display_data",
          "data": {
            "image/png": "[encoded data removed]",
            "text/plain": [
              "<Figure size 1080x720 with 1 Axes>"
            ]
          },
          "metadata": {
            "tags": [],
            "needs_background": "light"
          }
        }
      ]
    },
    {
      "cell_type": "code",
      "metadata": {
        "id": "FametjMP4ZRN"
      },
      "source": [
        "def json_extract(obj, key):\n",
        "    \"\"\"Recursively fetch values from nested JSON.\"\"\"\n",
        "    arr = []\n",
        "\n",
        "    def extract(obj, arr, key):\n",
        "        \"\"\"Recursively search for values of key in JSON tree.\"\"\"\n",
        "        if isinstance(obj, dict):\n",
        "            for k, v in obj.items():\n",
        "                if isinstance(v, (dict, list)):\n",
        "                    extract(v, arr, key)\n",
        "                elif k == key:\n",
        "                    arr.append(v)\n",
        "        elif isinstance(obj, list):\n",
        "            for item in obj:\n",
        "                extract(item, arr, key)\n",
        "        return arr\n",
        "\n",
        "    values = extract(obj, arr, key)\n",
        "    return values"
      ],
      "execution_count": null,
      "outputs": []
    },
    {
      "cell_type": "code",
      "metadata": {
        "id": "7x00riiXie0_"
      },
      "source": [
        "dct = {}\n",
        "codes = brief.ID\n",
        "for code in codes:\n",
        "    post = InstagramPost(code, sessionid=session_id)\n",
        "    dct[code] = json_extract(post.post_data, 'text')"
      ],
      "execution_count": null,
      "outputs": []
    },
    {
      "cell_type": "code",
      "metadata": {
        "id": "eK6IZPtg_Htj"
      },
      "source": [
        "cmts = []\n",
        "post_id = []\n",
        "for id in dct.keys():\n",
        "  for cmt in dct[id]:\n",
        "    post_id.append(id)\n",
        "    cmts.append(cmt)"
      ],
      "execution_count": null,
      "outputs": []
    },
    {
      "cell_type": "code",
      "metadata": {
        "colab": {
          "base_uri": "https://localhost:8080/",
          "height": 359
        },
        "id": "Qfq-NxPKBsy8",
        "outputId": "adad8de5-93f2-4b8a-9e64-6ce598c5c21a"
      },
      "source": [
        "post_comments = pd.DataFrame(data = {\"ID\":post_id, \"Comment\":cmts})\n",
        "post_comments.head(10)"
      ],
      "execution_count": null,
      "outputs": [
        {
          "output_type": "execute_result",
          "data": {
            "text/html": [
              "<div>\n",
              "<style scoped>\n",
              "    .dataframe tbody tr th:only-of-type {\n",
              "        vertical-align: middle;\n",
              "    }\n",
              "\n",
              "    .dataframe tbody tr th {\n",
              "        vertical-align: top;\n",
              "    }\n",
              "\n",
              "    .dataframe thead th {\n",
              "        text-align: right;\n",
              "    }\n",
              "</style>\n",
              "<table border=\"1\" class=\"dataframe\">\n",
              "  <thead>\n",
              "    <tr style=\"text-align: right;\">\n",
              "      <th></th>\n",
              "      <th>ID</th>\n",
              "      <th>Comment</th>\n",
              "    </tr>\n",
              "  </thead>\n",
              "  <tbody>\n",
              "    <tr>\n",
              "      <th>0</th>\n",
              "      <td>COa8EdZnfrY</td>\n",
              "      <td>Two little words, so much flavor. Comment the ...</td>\n",
              "    </tr>\n",
              "    <tr>\n",
              "      <th>1</th>\n",
              "      <td>COa8EdZnfrY</td>\n",
              "      <td>Orange vanilla</td>\n",
              "    </tr>\n",
              "    <tr>\n",
              "      <th>2</th>\n",
              "      <td>COa8EdZnfrY</td>\n",
              "      <td>@jonahf2021 Bingo! ♥️</td>\n",
              "    </tr>\n",
              "    <tr>\n",
              "      <th>3</th>\n",
              "      <td>COa8EdZnfrY</td>\n",
              "      <td>@cocacola ❤️</td>\n",
              "    </tr>\n",
              "    <tr>\n",
              "      <th>4</th>\n",
              "      <td>COa8EdZnfrY</td>\n",
              "      <td>@cocacola why is an Unforgivably Anti-Semitic ...</td>\n",
              "    </tr>\n",
              "    <tr>\n",
              "      <th>5</th>\n",
              "      <td>COa8EdZnfrY</td>\n",
              "      <td>Enjoying not buying Coca Cola…was easy</td>\n",
              "    </tr>\n",
              "    <tr>\n",
              "      <th>6</th>\n",
              "      <td>COa8EdZnfrY</td>\n",
              "      <td>@griebtex most of my whole town not drinking i...</td>\n",
              "    </tr>\n",
              "    <tr>\n",
              "      <th>7</th>\n",
              "      <td>COa8EdZnfrY</td>\n",
              "      <td>@griebtex same here...done with it. The local ...</td>\n",
              "    </tr>\n",
              "    <tr>\n",
              "      <th>8</th>\n",
              "      <td>COa8EdZnfrY</td>\n",
              "      <td>@dreigel411 yup I quit too</td>\n",
              "    </tr>\n",
              "    <tr>\n",
              "      <th>9</th>\n",
              "      <td>COa8EdZnfrY</td>\n",
              "      <td>I will never buy ANY of your products again, g...</td>\n",
              "    </tr>\n",
              "  </tbody>\n",
              "</table>\n",
              "</div>"
            ],
            "text/plain": [
              "            ID                                            Comment\n",
              "0  COa8EdZnfrY  Two little words, so much flavor. Comment the ...\n",
              "1  COa8EdZnfrY                                     Orange vanilla\n",
              "2  COa8EdZnfrY                              @jonahf2021 Bingo! ♥️\n",
              "3  COa8EdZnfrY                                       @cocacola ❤️\n",
              "4  COa8EdZnfrY  @cocacola why is an Unforgivably Anti-Semitic ...\n",
              "5  COa8EdZnfrY             Enjoying not buying Coca Cola…was easy\n",
              "6  COa8EdZnfrY  @griebtex most of my whole town not drinking i...\n",
              "7  COa8EdZnfrY  @griebtex same here...done with it. The local ...\n",
              "8  COa8EdZnfrY                         @dreigel411 yup I quit too\n",
              "9  COa8EdZnfrY  I will never buy ANY of your products again, g..."
            ]
          },
          "metadata": {
            "tags": []
          },
          "execution_count": 82
        }
      ]
    },
    {
      "cell_type": "code",
      "metadata": {
        "colab": {
          "base_uri": "https://localhost:8080/",
          "height": 204
        },
        "id": "_dSiaWbUCNcE",
        "outputId": "b52f489e-b3a6-4428-bbdb-9ca173b399e8"
      },
      "source": [
        "post_comments = post_comments.merge(brief[['ID', 'Brand']], how='left', on = 'ID')\n",
        "post_comments.head()"
      ],
      "execution_count": null,
      "outputs": [
        {
          "output_type": "execute_result",
          "data": {
            "text/html": [
              "<div>\n",
              "<style scoped>\n",
              "    .dataframe tbody tr th:only-of-type {\n",
              "        vertical-align: middle;\n",
              "    }\n",
              "\n",
              "    .dataframe tbody tr th {\n",
              "        vertical-align: top;\n",
              "    }\n",
              "\n",
              "    .dataframe thead th {\n",
              "        text-align: right;\n",
              "    }\n",
              "</style>\n",
              "<table border=\"1\" class=\"dataframe\">\n",
              "  <thead>\n",
              "    <tr style=\"text-align: right;\">\n",
              "      <th></th>\n",
              "      <th>ID</th>\n",
              "      <th>Comment</th>\n",
              "      <th>Brand</th>\n",
              "    </tr>\n",
              "  </thead>\n",
              "  <tbody>\n",
              "    <tr>\n",
              "      <th>0</th>\n",
              "      <td>COa8EdZnfrY</td>\n",
              "      <td>Two little words, so much flavor. Comment the ...</td>\n",
              "      <td>cocacola</td>\n",
              "    </tr>\n",
              "    <tr>\n",
              "      <th>1</th>\n",
              "      <td>COa8EdZnfrY</td>\n",
              "      <td>Orange vanilla</td>\n",
              "      <td>cocacola</td>\n",
              "    </tr>\n",
              "    <tr>\n",
              "      <th>2</th>\n",
              "      <td>COa8EdZnfrY</td>\n",
              "      <td>@jonahf2021 Bingo! ♥️</td>\n",
              "      <td>cocacola</td>\n",
              "    </tr>\n",
              "    <tr>\n",
              "      <th>3</th>\n",
              "      <td>COa8EdZnfrY</td>\n",
              "      <td>@cocacola ❤️</td>\n",
              "      <td>cocacola</td>\n",
              "    </tr>\n",
              "    <tr>\n",
              "      <th>4</th>\n",
              "      <td>COa8EdZnfrY</td>\n",
              "      <td>@cocacola why is an Unforgivably Anti-Semitic ...</td>\n",
              "      <td>cocacola</td>\n",
              "    </tr>\n",
              "  </tbody>\n",
              "</table>\n",
              "</div>"
            ],
            "text/plain": [
              "            ID                                            Comment     Brand\n",
              "0  COa8EdZnfrY  Two little words, so much flavor. Comment the ...  cocacola\n",
              "1  COa8EdZnfrY                                     Orange vanilla  cocacola\n",
              "2  COa8EdZnfrY                              @jonahf2021 Bingo! ♥️  cocacola\n",
              "3  COa8EdZnfrY                                       @cocacola ❤️  cocacola\n",
              "4  COa8EdZnfrY  @cocacola why is an Unforgivably Anti-Semitic ...  cocacola"
            ]
          },
          "metadata": {
            "tags": []
          },
          "execution_count": 83
        }
      ]
    },
    {
      "cell_type": "code",
      "metadata": {
        "colab": {
          "base_uri": "https://localhost:8080/",
          "height": 204
        },
        "id": "TxGzJGI_so9_",
        "outputId": "c2d1c1f3-60cd-4b4b-880c-f9bd74c5c30b"
      },
      "source": [
        "post_comments['Tag no'] = post_comments['Comment'].apply(lambda x: len(re.findall('@\\w+', x)))\n",
        "post_comments.head()"
      ],
      "execution_count": null,
      "outputs": [
        {
          "output_type": "execute_result",
          "data": {
            "text/html": [
              "<div>\n",
              "<style scoped>\n",
              "    .dataframe tbody tr th:only-of-type {\n",
              "        vertical-align: middle;\n",
              "    }\n",
              "\n",
              "    .dataframe tbody tr th {\n",
              "        vertical-align: top;\n",
              "    }\n",
              "\n",
              "    .dataframe thead th {\n",
              "        text-align: right;\n",
              "    }\n",
              "</style>\n",
              "<table border=\"1\" class=\"dataframe\">\n",
              "  <thead>\n",
              "    <tr style=\"text-align: right;\">\n",
              "      <th></th>\n",
              "      <th>ID</th>\n",
              "      <th>Comment</th>\n",
              "      <th>Brand</th>\n",
              "      <th>Tag no</th>\n",
              "    </tr>\n",
              "  </thead>\n",
              "  <tbody>\n",
              "    <tr>\n",
              "      <th>0</th>\n",
              "      <td>COa8EdZnfrY</td>\n",
              "      <td>Two little words, so much flavor. Comment the ...</td>\n",
              "      <td>cocacola</td>\n",
              "      <td>0</td>\n",
              "    </tr>\n",
              "    <tr>\n",
              "      <th>1</th>\n",
              "      <td>COa8EdZnfrY</td>\n",
              "      <td>Orange vanilla</td>\n",
              "      <td>cocacola</td>\n",
              "      <td>0</td>\n",
              "    </tr>\n",
              "    <tr>\n",
              "      <th>2</th>\n",
              "      <td>COa8EdZnfrY</td>\n",
              "      <td>@jonahf2021 Bingo! ♥️</td>\n",
              "      <td>cocacola</td>\n",
              "      <td>1</td>\n",
              "    </tr>\n",
              "    <tr>\n",
              "      <th>3</th>\n",
              "      <td>COa8EdZnfrY</td>\n",
              "      <td>@cocacola ❤️</td>\n",
              "      <td>cocacola</td>\n",
              "      <td>1</td>\n",
              "    </tr>\n",
              "    <tr>\n",
              "      <th>4</th>\n",
              "      <td>COa8EdZnfrY</td>\n",
              "      <td>@cocacola why is an Unforgivably Anti-Semitic ...</td>\n",
              "      <td>cocacola</td>\n",
              "      <td>1</td>\n",
              "    </tr>\n",
              "  </tbody>\n",
              "</table>\n",
              "</div>"
            ],
            "text/plain": [
              "            ID  ... Tag no\n",
              "0  COa8EdZnfrY  ...      0\n",
              "1  COa8EdZnfrY  ...      0\n",
              "2  COa8EdZnfrY  ...      1\n",
              "3  COa8EdZnfrY  ...      1\n",
              "4  COa8EdZnfrY  ...      1\n",
              "\n",
              "[5 rows x 4 columns]"
            ]
          },
          "metadata": {
            "tags": []
          },
          "execution_count": 84
        }
      ]
    },
    {
      "cell_type": "code",
      "metadata": {
        "colab": {
          "base_uri": "https://localhost:8080/",
          "height": 173
        },
        "id": "GBdddSw-1pLV",
        "outputId": "5b5c60a3-8751-4e04-b15a-b684091a0f40"
      },
      "source": [
        "post_comments.groupby('Brand').sum()"
      ],
      "execution_count": null,
      "outputs": [
        {
          "output_type": "execute_result",
          "data": {
            "text/html": [
              "<div>\n",
              "<style scoped>\n",
              "    .dataframe tbody tr th:only-of-type {\n",
              "        vertical-align: middle;\n",
              "    }\n",
              "\n",
              "    .dataframe tbody tr th {\n",
              "        vertical-align: top;\n",
              "    }\n",
              "\n",
              "    .dataframe thead th {\n",
              "        text-align: right;\n",
              "    }\n",
              "</style>\n",
              "<table border=\"1\" class=\"dataframe\">\n",
              "  <thead>\n",
              "    <tr style=\"text-align: right;\">\n",
              "      <th></th>\n",
              "      <th>Tag no</th>\n",
              "    </tr>\n",
              "    <tr>\n",
              "      <th>Brand</th>\n",
              "      <th></th>\n",
              "    </tr>\n",
              "  </thead>\n",
              "  <tbody>\n",
              "    <tr>\n",
              "      <th>cocacola</th>\n",
              "      <td>188</td>\n",
              "    </tr>\n",
              "    <tr>\n",
              "      <th>pepsi</th>\n",
              "      <td>143</td>\n",
              "    </tr>\n",
              "    <tr>\n",
              "      <th>sprite</th>\n",
              "      <td>253</td>\n",
              "    </tr>\n",
              "  </tbody>\n",
              "</table>\n",
              "</div>"
            ],
            "text/plain": [
              "          Tag no\n",
              "Brand           \n",
              "cocacola     188\n",
              "pepsi        143\n",
              "sprite       253"
            ]
          },
          "metadata": {
            "tags": []
          },
          "execution_count": 85
        }
      ]
    },
    {
      "cell_type": "code",
      "metadata": {
        "colab": {
          "base_uri": "https://localhost:8080/",
          "height": 272
        },
        "id": "eNRDH4as4atl",
        "outputId": "f1dfb6c8-11b3-46be-e760-559d4d3bf23a"
      },
      "source": [
        "nltk.download('punkt')\n",
        "nltk.download('stopwords')\n",
        "stop_words = stopwords.words('english')\n",
        "\n",
        "\n",
        "def clean_text(text):\n",
        "  text = text.lower()\n",
        "  text = re.sub('@', '', text)\n",
        "  text = re.sub('\\[.*?\\]', '', text)\n",
        "  text = re.sub('https?://\\S+|www\\.\\S+', '', text)\n",
        "  text = re.sub('<.*?>+', '', text)\n",
        "  text = re.sub('[%s]' % re.escape(string.punctuation), '', text)\n",
        "  text = re.sub('\\n', '', text)\n",
        "  text = re.sub('\\w*\\d\\w*', '', text)\n",
        "  text = re.sub(r\"[^a-zA-Z ]+\", \"\", text)\n",
        "    \n",
        "  #Tokenize the data\n",
        "  text = nltk.word_tokenize(text)\n",
        "  #Remove stopwords\n",
        "  text = [w for w in text if w not in stop_words]\n",
        "  return text\n",
        "\n",
        "post_comments['Tokenized comment'] = post_comments['Comment'].apply(lambda x: clean_text(x))\n",
        "\n",
        "post_comments.head()\n",
        "\n"
      ],
      "execution_count": null,
      "outputs": [
        {
          "output_type": "stream",
          "text": [
            "[nltk_data] Downloading package punkt to /root/nltk_data...\n",
            "[nltk_data]   Package punkt is already up-to-date!\n",
            "[nltk_data] Downloading package stopwords to /root/nltk_data...\n",
            "[nltk_data]   Package stopwords is already up-to-date!\n"
          ],
          "name": "stdout"
        },
        {
          "output_type": "execute_result",
          "data": {
            "text/html": [
              "<div>\n",
              "<style scoped>\n",
              "    .dataframe tbody tr th:only-of-type {\n",
              "        vertical-align: middle;\n",
              "    }\n",
              "\n",
              "    .dataframe tbody tr th {\n",
              "        vertical-align: top;\n",
              "    }\n",
              "\n",
              "    .dataframe thead th {\n",
              "        text-align: right;\n",
              "    }\n",
              "</style>\n",
              "<table border=\"1\" class=\"dataframe\">\n",
              "  <thead>\n",
              "    <tr style=\"text-align: right;\">\n",
              "      <th></th>\n",
              "      <th>ID</th>\n",
              "      <th>Comment</th>\n",
              "      <th>Brand</th>\n",
              "      <th>Tag no</th>\n",
              "      <th>Tokenized comment</th>\n",
              "    </tr>\n",
              "  </thead>\n",
              "  <tbody>\n",
              "    <tr>\n",
              "      <th>0</th>\n",
              "      <td>COa8EdZnfrY</td>\n",
              "      <td>Two little words, so much flavor. Comment the ...</td>\n",
              "      <td>cocacola</td>\n",
              "      <td>0</td>\n",
              "      <td>[two, little, words, much, flavor, comment, an...</td>\n",
              "    </tr>\n",
              "    <tr>\n",
              "      <th>1</th>\n",
              "      <td>COa8EdZnfrY</td>\n",
              "      <td>Orange vanilla</td>\n",
              "      <td>cocacola</td>\n",
              "      <td>0</td>\n",
              "      <td>[orange, vanilla]</td>\n",
              "    </tr>\n",
              "    <tr>\n",
              "      <th>2</th>\n",
              "      <td>COa8EdZnfrY</td>\n",
              "      <td>@jonahf2021 Bingo! ♥️</td>\n",
              "      <td>cocacola</td>\n",
              "      <td>1</td>\n",
              "      <td>[bingo]</td>\n",
              "    </tr>\n",
              "    <tr>\n",
              "      <th>3</th>\n",
              "      <td>COa8EdZnfrY</td>\n",
              "      <td>@cocacola ❤️</td>\n",
              "      <td>cocacola</td>\n",
              "      <td>1</td>\n",
              "      <td>[cocacola]</td>\n",
              "    </tr>\n",
              "    <tr>\n",
              "      <th>4</th>\n",
              "      <td>COa8EdZnfrY</td>\n",
              "      <td>@cocacola why is an Unforgivably Anti-Semitic ...</td>\n",
              "      <td>cocacola</td>\n",
              "      <td>1</td>\n",
              "      <td>[cocacola, unforgivably, antisemitic, person, ...</td>\n",
              "    </tr>\n",
              "  </tbody>\n",
              "</table>\n",
              "</div>"
            ],
            "text/plain": [
              "            ID  ...                                  Tokenized comment\n",
              "0  COa8EdZnfrY  ...  [two, little, words, much, flavor, comment, an...\n",
              "1  COa8EdZnfrY  ...                                  [orange, vanilla]\n",
              "2  COa8EdZnfrY  ...                                            [bingo]\n",
              "3  COa8EdZnfrY  ...                                         [cocacola]\n",
              "4  COa8EdZnfrY  ...  [cocacola, unforgivably, antisemitic, person, ...\n",
              "\n",
              "[5 rows x 5 columns]"
            ]
          },
          "metadata": {
            "tags": []
          },
          "execution_count": 86
        }
      ]
    },
    {
      "cell_type": "code",
      "metadata": {
        "colab": {
          "base_uri": "https://localhost:8080/"
        },
        "id": "GXhEfQQrRVFJ",
        "outputId": "7c92b8d7-f5c3-425b-9fd3-be0fba320c57"
      },
      "source": [
        "nltk.download('wordnet')\n",
        "lemmatizer = WordNetLemmatizer()\n",
        "def lem(text):\n",
        "    text = [lemmatizer.lemmatize(t) for t in text]\n",
        "    text = [lemmatizer.lemmatize(t, 'v') for t in text]\n",
        "    return text\n",
        "post_comments['Tokenized comment'] = post_comments['Tokenized comment'].apply(lambda x: lem(x))"
      ],
      "execution_count": null,
      "outputs": [
        {
          "output_type": "stream",
          "text": [
            "[nltk_data] Downloading package wordnet to /root/nltk_data...\n",
            "[nltk_data]   Package wordnet is already up-to-date!\n"
          ],
          "name": "stdout"
        }
      ]
    },
    {
      "cell_type": "code",
      "metadata": {
        "colab": {
          "base_uri": "https://localhost:8080/",
          "height": 204
        },
        "id": "D5tbf0zM43x_",
        "outputId": "5b453b38-a125-4e56-b2ca-789b04364556"
      },
      "source": [
        "post_comments.head()"
      ],
      "execution_count": null,
      "outputs": [
        {
          "output_type": "execute_result",
          "data": {
            "text/html": [
              "<div>\n",
              "<style scoped>\n",
              "    .dataframe tbody tr th:only-of-type {\n",
              "        vertical-align: middle;\n",
              "    }\n",
              "\n",
              "    .dataframe tbody tr th {\n",
              "        vertical-align: top;\n",
              "    }\n",
              "\n",
              "    .dataframe thead th {\n",
              "        text-align: right;\n",
              "    }\n",
              "</style>\n",
              "<table border=\"1\" class=\"dataframe\">\n",
              "  <thead>\n",
              "    <tr style=\"text-align: right;\">\n",
              "      <th></th>\n",
              "      <th>ID</th>\n",
              "      <th>Comment</th>\n",
              "      <th>Brand</th>\n",
              "      <th>Tag no</th>\n",
              "      <th>Tokenized comment</th>\n",
              "    </tr>\n",
              "  </thead>\n",
              "  <tbody>\n",
              "    <tr>\n",
              "      <th>0</th>\n",
              "      <td>COa8EdZnfrY</td>\n",
              "      <td>Two little words, so much flavor. Comment the ...</td>\n",
              "      <td>cocacola</td>\n",
              "      <td>0</td>\n",
              "      <td>[two, little, word, much, flavor, comment, ans...</td>\n",
              "    </tr>\n",
              "    <tr>\n",
              "      <th>1</th>\n",
              "      <td>COa8EdZnfrY</td>\n",
              "      <td>Orange vanilla</td>\n",
              "      <td>cocacola</td>\n",
              "      <td>0</td>\n",
              "      <td>[orange, vanilla]</td>\n",
              "    </tr>\n",
              "    <tr>\n",
              "      <th>2</th>\n",
              "      <td>COa8EdZnfrY</td>\n",
              "      <td>@jonahf2021 Bingo! ♥️</td>\n",
              "      <td>cocacola</td>\n",
              "      <td>1</td>\n",
              "      <td>[bingo]</td>\n",
              "    </tr>\n",
              "    <tr>\n",
              "      <th>3</th>\n",
              "      <td>COa8EdZnfrY</td>\n",
              "      <td>@cocacola ❤️</td>\n",
              "      <td>cocacola</td>\n",
              "      <td>1</td>\n",
              "      <td>[cocacola]</td>\n",
              "    </tr>\n",
              "    <tr>\n",
              "      <th>4</th>\n",
              "      <td>COa8EdZnfrY</td>\n",
              "      <td>@cocacola why is an Unforgivably Anti-Semitic ...</td>\n",
              "      <td>cocacola</td>\n",
              "      <td>1</td>\n",
              "      <td>[cocacola, unforgivably, antisemitic, person, ...</td>\n",
              "    </tr>\n",
              "  </tbody>\n",
              "</table>\n",
              "</div>"
            ],
            "text/plain": [
              "            ID  ...                                  Tokenized comment\n",
              "0  COa8EdZnfrY  ...  [two, little, word, much, flavor, comment, ans...\n",
              "1  COa8EdZnfrY  ...                                  [orange, vanilla]\n",
              "2  COa8EdZnfrY  ...                                            [bingo]\n",
              "3  COa8EdZnfrY  ...                                         [cocacola]\n",
              "4  COa8EdZnfrY  ...  [cocacola, unforgivably, antisemitic, person, ...\n",
              "\n",
              "[5 rows x 5 columns]"
            ]
          },
          "metadata": {
            "tags": []
          },
          "execution_count": 88
        }
      ]
    },
    {
      "cell_type": "code",
      "metadata": {
        "id": "7jNQRjBNamxh"
      },
      "source": [
        "#Remove all empty comments\n",
        "empty_comment = []\n",
        "for i in range(len(post_comments)):\n",
        "    if post_comments['Tokenized comment'][i]==empty_comment:\n",
        "        post_comments=post_comments.drop(i)\n",
        "post_comments=post_comments.reset_index(drop=True)"
      ],
      "execution_count": null,
      "outputs": []
    },
    {
      "cell_type": "code",
      "metadata": {
        "colab": {
          "base_uri": "https://localhost:8080/",
          "height": 204
        },
        "id": "tUuKH-tEbKnN",
        "outputId": "2a94c1e5-da89-4cf2-dca0-72688272fc31"
      },
      "source": [
        "post_comments.head()"
      ],
      "execution_count": null,
      "outputs": [
        {
          "output_type": "execute_result",
          "data": {
            "text/html": [
              "<div>\n",
              "<style scoped>\n",
              "    .dataframe tbody tr th:only-of-type {\n",
              "        vertical-align: middle;\n",
              "    }\n",
              "\n",
              "    .dataframe tbody tr th {\n",
              "        vertical-align: top;\n",
              "    }\n",
              "\n",
              "    .dataframe thead th {\n",
              "        text-align: right;\n",
              "    }\n",
              "</style>\n",
              "<table border=\"1\" class=\"dataframe\">\n",
              "  <thead>\n",
              "    <tr style=\"text-align: right;\">\n",
              "      <th></th>\n",
              "      <th>ID</th>\n",
              "      <th>Comment</th>\n",
              "      <th>Brand</th>\n",
              "      <th>Tag no</th>\n",
              "      <th>Tokenized comment</th>\n",
              "    </tr>\n",
              "  </thead>\n",
              "  <tbody>\n",
              "    <tr>\n",
              "      <th>0</th>\n",
              "      <td>COa8EdZnfrY</td>\n",
              "      <td>Two little words, so much flavor. Comment the ...</td>\n",
              "      <td>cocacola</td>\n",
              "      <td>0</td>\n",
              "      <td>[two, little, word, much, flavor, comment, ans...</td>\n",
              "    </tr>\n",
              "    <tr>\n",
              "      <th>1</th>\n",
              "      <td>COa8EdZnfrY</td>\n",
              "      <td>Orange vanilla</td>\n",
              "      <td>cocacola</td>\n",
              "      <td>0</td>\n",
              "      <td>[orange, vanilla]</td>\n",
              "    </tr>\n",
              "    <tr>\n",
              "      <th>2</th>\n",
              "      <td>COa8EdZnfrY</td>\n",
              "      <td>@jonahf2021 Bingo! ♥️</td>\n",
              "      <td>cocacola</td>\n",
              "      <td>1</td>\n",
              "      <td>[bingo]</td>\n",
              "    </tr>\n",
              "    <tr>\n",
              "      <th>3</th>\n",
              "      <td>COa8EdZnfrY</td>\n",
              "      <td>@cocacola ❤️</td>\n",
              "      <td>cocacola</td>\n",
              "      <td>1</td>\n",
              "      <td>[cocacola]</td>\n",
              "    </tr>\n",
              "    <tr>\n",
              "      <th>4</th>\n",
              "      <td>COa8EdZnfrY</td>\n",
              "      <td>@cocacola why is an Unforgivably Anti-Semitic ...</td>\n",
              "      <td>cocacola</td>\n",
              "      <td>1</td>\n",
              "      <td>[cocacola, unforgivably, antisemitic, person, ...</td>\n",
              "    </tr>\n",
              "  </tbody>\n",
              "</table>\n",
              "</div>"
            ],
            "text/plain": [
              "            ID  ...                                  Tokenized comment\n",
              "0  COa8EdZnfrY  ...  [two, little, word, much, flavor, comment, ans...\n",
              "1  COa8EdZnfrY  ...                                  [orange, vanilla]\n",
              "2  COa8EdZnfrY  ...                                            [bingo]\n",
              "3  COa8EdZnfrY  ...                                         [cocacola]\n",
              "4  COa8EdZnfrY  ...  [cocacola, unforgivably, antisemitic, person, ...\n",
              "\n",
              "[5 rows x 5 columns]"
            ]
          },
          "metadata": {
            "tags": []
          },
          "execution_count": 90
        }
      ]
    },
    {
      "cell_type": "code",
      "metadata": {
        "id": "T3iqt4mZLHHD",
        "colab": {
          "base_uri": "https://localhost:8080/",
          "height": 329
        },
        "outputId": "8958700e-777e-4403-d4f8-4d0c33785250"
      },
      "source": [
        "#From lists of comments to a single list containing all words      \n",
        "all_words=[]        \n",
        "for i in range(len(post_comments)):\n",
        "    all_words = all_words + post_comments['Tokenized comment'][i]\n",
        "#Get word frequency        \n",
        "nlp_words = nltk.FreqDist(all_words)\n",
        "plot1 = nlp_words.plot(20, color='salmon', title='Word Frequency')"
      ],
      "execution_count": null,
      "outputs": [
        {
          "output_type": "display_data",
          "data": {
            "image/png": "[encoded data removed]",
            "text/plain": [
              "<Figure size 432x288 with 1 Axes>"
            ]
          },
          "metadata": {
            "tags": [],
            "needs_background": "light"
          }
        }
      ]
    },
    {
      "cell_type": "code",
      "metadata": {
        "colab": {
          "base_uri": "https://localhost:8080/",
          "height": 331
        },
        "id": "KgcOiAhQEtPe",
        "outputId": "6ae6a140-6268-4286-afe3-5bd0561cce29"
      },
      "source": [
        "post_coke = post_comments[post_comments['Brand'] == 'cocacola']\n",
        "post_coke = post_coke[post_coke.astype(str)['Tokenized comment']!='[]'].reset_index()\n",
        "all_words_coke = []\n",
        "post_coke['Tokenized comment'][0]\n",
        "for i in range(len(post_coke)):\n",
        "  all_words_coke = all_words_coke + post_coke['Tokenized comment'][i]\n",
        "#Get word frequency        \n",
        "nlp_words_coke = nltk.FreqDist(all_words_coke)\n",
        "plot2 = nlp_words_coke.plot(20, color='salmon', title='Word Frequency - Cocacola')"
      ],
      "execution_count": null,
      "outputs": [
        {
          "output_type": "display_data",
          "data": {
            "image/png": "[encoded data removed]",
            "text/plain": [
              "<Figure size 432x288 with 1 Axes>"
            ]
          },
          "metadata": {
            "tags": [],
            "needs_background": "light"
          }
        }
      ]
    },
    {
      "cell_type": "code",
      "metadata": {
        "colab": {
          "base_uri": "https://localhost:8080/",
          "height": 324
        },
        "id": "SuMmchu8_DJ1",
        "outputId": "fed288a2-df8d-43dc-8262-3f7ec03134f2"
      },
      "source": [
        "post_pepsi = post_comments[post_comments['Brand'] == 'pepsi']\n",
        "post_pepsi = post_pepsi[post_pepsi.astype(str)['Tokenized comment']!='[]'].reset_index()\n",
        "all_words_pepsi = []\n",
        "for i in range(len(post_pepsi)):\n",
        "  all_words_pepsi = all_words_pepsi + post_pepsi['Tokenized comment'][i]\n",
        "#Get word frequency        \n",
        "nlp_words_pepsi = nltk.FreqDist(all_words_pepsi)\n",
        "plot3 = nlp_words_pepsi.plot(20, color='teal', title='Word Frequency - Pepsi')"
      ],
      "execution_count": null,
      "outputs": [
        {
          "output_type": "display_data",
          "data": {
            "image/png": "[encoded data removed]",
            "text/plain": [
              "<Figure size 432x288 with 1 Axes>"
            ]
          },
          "metadata": {
            "tags": [],
            "needs_background": "light"
          }
        }
      ]
    },
    {
      "cell_type": "code",
      "metadata": {
        "colab": {
          "base_uri": "https://localhost:8080/",
          "height": 335
        },
        "id": "VPI6jQMUYpte",
        "outputId": "5a8b0d09-a1cf-47eb-e142-8e0305503cdc"
      },
      "source": [
        "post_sprite = post_comments[post_comments['Brand'] == 'sprite']\n",
        "post_sprite = post_sprite[post_sprite.astype(str)['Tokenized comment']!='[]'].reset_index()\n",
        "all_words_sprite = []\n",
        "for i in range(len(post_sprite)):\n",
        "  all_words_sprite = all_words_sprite + post_sprite['Tokenized comment'][i]\n",
        "#Get word frequency        \n",
        "nlp_words_sprite = nltk.FreqDist(all_words_sprite)\n",
        "plot4 = nlp_words_sprite.plot(20, color='coral', title='Word Frequency - Sprite')"
      ],
      "execution_count": null,
      "outputs": [
        {
          "output_type": "display_data",
          "data": {
            "image/png": "[encoded data removed]",
            "text/plain": [
              "<Figure size 432x288 with 1 Axes>"
            ]
          },
          "metadata": {
            "tags": [],
            "needs_background": "light"
          }
        }
      ]
    },
    {
      "cell_type": "code",
      "metadata": {
        "colab": {
          "base_uri": "https://localhost:8080/",
          "height": 389
        },
        "id": "dp0gP3b7YGhn",
        "outputId": "b55abaeb-8d0b-495c-dd35-993b338753aa"
      },
      "source": [
        "#Bigrams\n",
        "bigrm = list(nltk.bigrams(all_words))\n",
        "words_2 = nltk.FreqDist(bigrm)\n",
        "words_2.plot(20, color='salmon', title='Bigram Frequency')"
      ],
      "execution_count": null,
      "outputs": [
        {
          "output_type": "display_data",
          "data": {
            "image/png": "[encoded data removed]",
            "text/plain": [
              "<Figure size 432x288 with 1 Axes>"
            ]
          },
          "metadata": {
            "tags": [],
            "needs_background": "light"
          }
        }
      ]
    },
    {
      "cell_type": "code",
      "metadata": {
        "colab": {
          "base_uri": "https://localhost:8080/",
          "height": 439
        },
        "id": "DI5pbEHk9bhd",
        "outputId": "99f4999d-552f-44dc-93c0-259e03e99031"
      },
      "source": [
        "#Trigrams\n",
        "trigrm = list(nltk.trigrams(all_words))\n",
        "words_3 = nltk.FreqDist(trigrm)\n",
        "words_3.plot(20, color='teal', title='Bigram Frequency')"
      ],
      "execution_count": null,
      "outputs": [
        {
          "output_type": "display_data",
          "data": {
            "image/png": "[encoded data removed]",
            "text/plain": [
              "<Figure size 432x288 with 1 Axes>"
            ]
          },
          "metadata": {
            "tags": [],
            "needs_background": "light"
          }
        }
      ]
    },
    {
      "cell_type": "code",
      "metadata": {
        "colab": {
          "base_uri": "https://localhost:8080/",
          "height": 281
        },
        "id": "TjDk8I0iD9Pw",
        "outputId": "de482e86-f485-406c-bbcb-8654cfe6a088"
      },
      "source": [
        "#Get sentiment from comments\n",
        "post_comments['Tokenized comment'] = [str(i) for i in post_comments['Tokenized comment']]\n",
        "sentiment = []\n",
        "for i in range(len(post_comments)):\n",
        "    blob = TextBlob(post_comments['Tokenized comment'][i])\n",
        "    for sentence in blob.sentences:\n",
        "        sentiment.append(sentence.sentiment.polarity)\n",
        "post_comments['Sentiment']=sentiment\n",
        "#Plot\n",
        "post_comments['Sentiment'].plot.line(color='salmon', title='Comments Polarity')\n",
        "plt.show()"
      ],
      "execution_count": null,
      "outputs": [
        {
          "output_type": "display_data",
          "data": {
            "image/png": "[encoded data removed]",
            "text/plain": [
              "<Figure size 432x288 with 1 Axes>"
            ]
          },
          "metadata": {
            "tags": [],
            "needs_background": "light"
          }
        }
      ]
    },
    {
      "cell_type": "code",
      "metadata": {
        "colab": {
          "base_uri": "https://localhost:8080/",
          "height": 281
        },
        "id": "GvwFsjsVE-tc",
        "outputId": "44a978b6-6b88-4a7c-c506-01b647958957"
      },
      "source": [
        "post_comments['Sentiment'].plot.hist(color='teal', title='Comments Polarity')\n",
        "plt.show()"
      ],
      "execution_count": null,
      "outputs": [
        {
          "output_type": "display_data",
          "data": {
            "image/png": "[encoded data removed]",
            "text/plain": [
              "<Figure size 432x288 with 1 Axes>"
            ]
          },
          "metadata": {
            "tags": [],
            "needs_background": "light"
          }
        }
      ]
    },
    {
      "cell_type": "code",
      "metadata": {
        "colab": {
          "base_uri": "https://localhost:8080/",
          "height": 281
        },
        "id": "ZD04_A_hFFNL",
        "outputId": "fda7f5ab-9c9d-4de3-a8ef-37dbff6bcf0c"
      },
      "source": [
        "my_color = np.where(post_comments[post_comments.Brand == 'cocacola'].Sentiment >= 0, 'coral', 'teal')\n",
        "plt.vlines(x=range(len(post_comments[post_comments['Brand'] == 'cocacola'])), ymin=0, ymax=post_comments[post_comments['Brand'] == 'cocacola']['Sentiment'], color=my_color, alpha=0.4)\n",
        "plt.scatter(x=range(len(post_comments[post_comments['Brand'] == 'cocacola'])), y=post_comments[post_comments['Brand'] == 'cocacola']['Sentiment'], color=my_color, s=1, alpha=1)\n",
        "plt.title(\"Comments Polarity - Cocacola\", loc='center')\n",
        "plt.ylabel('Sentiment')\n",
        "plt.show()"
      ],
      "execution_count": null,
      "outputs": [
        {
          "output_type": "display_data",
          "data": {
            "image/png": "[encoded data removed]",
            "text/plain": [
              "<Figure size 432x288 with 1 Axes>"
            ]
          },
          "metadata": {
            "tags": [],
            "needs_background": "light"
          }
        }
      ]
    },
    {
      "cell_type": "code",
      "metadata": {
        "colab": {
          "base_uri": "https://localhost:8080/",
          "height": 281
        },
        "id": "gpep0PfSN2FN",
        "outputId": "8bc282fb-f3e9-4a82-8dad-d18a57fc06b0"
      },
      "source": [
        "my_color = np.where(post_comments[post_comments.Brand == 'pepsi'].Sentiment >= 0, 'coral', 'teal')\n",
        "plt.vlines(x=range(len(post_comments[post_comments['Brand'] == 'pepsi'])), ymin=0, ymax=post_comments[post_comments['Brand'] == 'pepsi']['Sentiment'], color=my_color, alpha=0.4)\n",
        "plt.scatter(x=range(len(post_comments[post_comments['Brand'] == 'pepsi'])), y=post_comments[post_comments['Brand'] == 'pepsi']['Sentiment'], color=my_color, s=1, alpha=1)\n",
        "plt.title(\"Comments Polarity - Pepsi\", loc='center')\n",
        "plt.ylabel('Sentiment')\n",
        "plt.show()"
      ],
      "execution_count": null,
      "outputs": [
        {
          "output_type": "display_data",
          "data": {
            "image/png": "[encoded data removed]",
            "text/plain": [
              "<Figure size 432x288 with 1 Axes>"
            ]
          },
          "metadata": {
            "tags": [],
            "needs_background": "light"
          }
        }
      ]
    },
    {
      "cell_type": "code",
      "metadata": {
        "colab": {
          "base_uri": "https://localhost:8080/",
          "height": 281
        },
        "id": "md17IS7LOXpE",
        "outputId": "39a296b7-1fae-4c9a-cd25-cdee34a8f457"
      },
      "source": [
        "my_color = np.where(post_comments[post_comments.Brand == 'sprite'].Sentiment >= 0, 'coral', 'teal')\n",
        "plt.vlines(x=range(len(post_comments[post_comments['Brand'] == 'sprite'])), ymin=0, ymax=post_comments[post_comments['Brand'] == 'sprite']['Sentiment'], color=my_color, alpha=0.4)\n",
        "plt.scatter(x=range(len(post_comments[post_comments['Brand'] == 'sprite'])), y=post_comments[post_comments['Brand'] == 'sprite']['Sentiment'], color=my_color, s=1, alpha=1)\n",
        "plt.title(\"Comments Polarity - Sprite\", loc='center')\n",
        "plt.ylabel('Sentiment')\n",
        "plt.show()"
      ],
      "execution_count": null,
      "outputs": [
        {
          "output_type": "display_data",
          "data": {
            "image/png": "[encoded data removed]",
            "text/plain": [
              "<Figure size 432x288 with 1 Axes>"
            ]
          },
          "metadata": {
            "tags": [],
            "needs_background": "light"
          }
        }
      ]
    }
  ]
}